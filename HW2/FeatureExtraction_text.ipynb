{
 "cells": [
  {
   "cell_type": "markdown",
   "id": "df0fdb21-9e94-423f-ae0e-5d39e6b87b53",
   "metadata": {},
   "source": [
    "# Task 1-1. Feature Extraction\n",
    "Extract two feature sets that you feel would be useful for the DAR problem. One feature\n",
    "set should be text-based, and the other feature set should be speech-based. Save text-based and speech-based feature sets as text_features_{train, valid, test}.csv and speech_features_{train, valid, test}.csv, respectively.\n",
    "\n",
    "- columns: dialog_id, speaker, da_tag, start_time, end_time"
   ]
  },
  {
   "cell_type": "code",
   "execution_count": 3,
   "id": "1d74fb0e-1c64-4893-90d1-24620f485e66",
   "metadata": {},
   "outputs": [],
   "source": [
    "import pandas as pd\n",
    "import numpy as np\n",
    "import os"
   ]
  },
  {
   "cell_type": "code",
   "execution_count": 17,
   "id": "1b5828c9-cf3f-4ae3-918e-c6bfb9548932",
   "metadata": {},
   "outputs": [],
   "source": [
    "train_df = pd.read_csv(\"../train.csv\")\n",
    "valid_df = pd.read_csv(\"../valid.csv\")\n",
    "test_df = pd.read_csv(\"../test.csv\")"
   ]
  },
  {
   "cell_type": "code",
   "execution_count": 19,
   "id": "2546ddc9-92fa-4ebd-b120-2eb6faa792fd",
   "metadata": {},
   "outputs": [
    {
     "name": "stdout",
     "output_type": "stream",
     "text": [
      "Index(['dialog_id', 'speaker', 'transcript', 'da_tag', 'start_time',\n",
      "       'end_time', 'function', 'pronoun', 'ppron', 'i', 'we', 'you', 'shehe',\n",
      "       'they', 'ipron', 'article', 'prep', 'auxverb', 'adverb', 'conj',\n",
      "       'negate', 'verb', 'adj', 'compare', 'interrog', 'number', 'quant',\n",
      "       'affect', 'posemo', 'negemo', 'anx', 'anger', 'sad', 'social', 'family',\n",
      "       'friend', 'female', 'male', 'cogproc', 'insight', 'cause', 'discrep',\n",
      "       'tentat', 'certain', 'differ', 'percept', 'see', 'hear', 'feel', 'bio',\n",
      "       'body', 'health', 'sexual', 'ingest', 'drives', 'affiliation',\n",
      "       'achieve', 'power', 'reward', 'risk', 'focuspast', 'focuspresent',\n",
      "       'focusfuture', 'relativ', 'motion', 'space', 'time', 'work', 'leisure',\n",
      "       'home', 'money', 'relig', 'death', 'informal', 'swear', 'netspeak',\n",
      "       'assent', 'nonflu', 'filler'],\n",
      "      dtype='object')\n"
     ]
    }
   ],
   "source": [
    "print(train_df.columns)"
   ]
  },
  {
   "cell_type": "markdown",
   "id": "a10e3c5f-fbca-4169-86b1-44c3b7eddfb0",
   "metadata": {},
   "source": [
    "### Text-based Features"
   ]
  },
  {
   "cell_type": "code",
   "execution_count": 21,
   "id": "529c9a5b-bc5c-4d8e-83e6-3e705495cfb1",
   "metadata": {},
   "outputs": [],
   "source": [
    "dataset = [train_df, valid_df, test_df]\n",
    "\n",
    "# extract utterance length\n",
    "# SIL: silence -> 0, other: word counts\n",
    "for df in dataset:\n",
    "    df[\"utt_len\"] = df[\"transcript\"].apply(lambda x: 0 if str(x).strip().upper() == \"SIL\" else len(str(x).split()))\n",
    "\n",
    "# drop transcript column\n",
    "for df in dataset:\n",
    "    df.drop(columns=[\"transcript\"], inplace=True)"
   ]
  },
  {
   "cell_type": "code",
   "execution_count": 23,
   "id": "d3b0f159-4f95-4516-9fe5-98f7ace89111",
   "metadata": {},
   "outputs": [
    {
     "name": "stdout",
     "output_type": "stream",
     "text": [
      "Index(['dialog_id', 'speaker', 'da_tag', 'start_time', 'end_time', 'function',\n",
      "       'pronoun', 'ppron', 'i', 'we', 'you', 'shehe', 'they', 'ipron',\n",
      "       'article', 'prep', 'auxverb', 'adverb', 'conj', 'negate', 'verb', 'adj',\n",
      "       'compare', 'interrog', 'number', 'quant', 'affect', 'posemo', 'negemo',\n",
      "       'anx', 'anger', 'sad', 'social', 'family', 'friend', 'female', 'male',\n",
      "       'cogproc', 'insight', 'cause', 'discrep', 'tentat', 'certain', 'differ',\n",
      "       'percept', 'see', 'hear', 'feel', 'bio', 'body', 'health', 'sexual',\n",
      "       'ingest', 'drives', 'affiliation', 'achieve', 'power', 'reward', 'risk',\n",
      "       'focuspast', 'focuspresent', 'focusfuture', 'relativ', 'motion',\n",
      "       'space', 'time', 'work', 'leisure', 'home', 'money', 'relig', 'death',\n",
      "       'informal', 'swear', 'netspeak', 'assent', 'nonflu', 'filler',\n",
      "       'utt_len'],\n",
      "      dtype='object')\n"
     ]
    }
   ],
   "source": [
    "print(train_df.columns)"
   ]
  },
  {
   "cell_type": "code",
   "execution_count": 25,
   "id": "9962e64e-9aa0-4647-9651-00f1381ee944",
   "metadata": {},
   "outputs": [],
   "source": [
    "# save\n",
    "train_df.to_csv(\"text_features_train.csv\", index=False)\n",
    "valid_df.to_csv(\"text_features_valid.csv\", index=False)\n",
    "test_df.to_csv(\"text_features_test.csv\", index=False)"
   ]
  },
  {
   "cell_type": "code",
   "execution_count": null,
   "id": "c010bff6-f2ea-42ba-9b65-1acf72572d78",
   "metadata": {},
   "outputs": [],
   "source": []
  }
 ],
 "metadata": {
  "kernelspec": {
   "display_name": "Python [conda env:base] *",
   "language": "python",
   "name": "conda-base-py"
  },
  "language_info": {
   "codemirror_mode": {
    "name": "ipython",
    "version": 3
   },
   "file_extension": ".py",
   "mimetype": "text/x-python",
   "name": "python",
   "nbconvert_exporter": "python",
   "pygments_lexer": "ipython3",
   "version": "3.12.7"
  }
 },
 "nbformat": 4,
 "nbformat_minor": 5
}
